{
  "cells": [
    {
      "cell_type": "markdown",
      "metadata": {
        "colab_type": "text",
        "id": "view-in-github"
      },
      "source": [
        "<a href=\"https://colab.research.google.com/github/emaddar/NLP-NER/blob/Models/Rapport_finance.ipynb\" target=\"_parent\"><img src=\"https://colab.research.google.com/assets/colab-badge.svg\" alt=\"Open In Colab\"/></a>"
      ]
    },
    {
      "cell_type": "code",
      "execution_count": null,
      "metadata": {
        "id": "LKXawvON-TsO"
      },
      "outputs": [],
      "source": [
        "!pip install -U spacy -q  "
      ]
    },
    {
      "cell_type": "code",
      "execution_count": null,
      "metadata": {
        "id": "eivdLuJd-YPl"
      },
      "outputs": [],
      "source": [
        "#!wget https://raw.githubusercontent.com/amrrs/custom-ner-with-spacy/main/pvr_training_data.json"
      ]
    },
    {
      "cell_type": "code",
      "execution_count": null,
      "metadata": {
        "colab": {
          "base_uri": "https://localhost:8080/"
        },
        "id": "aH729bvS-uOh",
        "outputId": "4c22ca99-8dce-4cde-8c0d-fb212b64a1f1"
      },
      "outputs": [
        {
          "name": "stderr",
          "output_type": "stream",
          "text": [
            "/usr/local/lib/python3.9/dist-packages/torch/cuda/__init__.py:497: UserWarning: Can't initialize NVML\n",
            "  warnings.warn(\"Can't initialize NVML\")\n"
          ]
        }
      ],
      "source": [
        "import spacy\n",
        "from spacy.tokens import DocBin\n",
        "from tqdm import tqdm\n",
        "\n",
        "nlp = spacy.blank(\"fr\") # load a new spacy model\n",
        "db = DocBin() # create a DocBin object\n",
        "     "
      ]
    },
    {
      "cell_type": "code",
      "execution_count": null,
      "metadata": {
        "colab": {
          "base_uri": "https://localhost:8080/"
        },
        "id": "Jf5WLhwN-unp",
        "outputId": "c85c16b9-1131-42d1-e650-952be28239fb"
      },
      "outputs": [
        {
          "name": "stdout",
          "output_type": "stream",
          "text": [
            "Mounted at /content/drive\n"
          ]
        }
      ],
      "source": [
        "from google.colab import drive\n",
        "drive.mount('/content/drive')"
      ]
    },
    {
      "cell_type": "code",
      "execution_count": null,
      "metadata": {
        "id": "whD0VWOq-5YB"
      },
      "outputs": [],
      "source": [
        "import json\n",
        "f = open('/content/drive/MyDrive/annotations_Yanis.json')\n",
        "TRAIN_DATA = json.load(f)"
      ]
    },
    {
      "cell_type": "code",
      "execution_count": null,
      "metadata": {
        "colab": {
          "base_uri": "https://localhost:8080/"
        },
        "id": "T2he3nrY_jRd",
        "outputId": "8a10b235-3bca-4590-c640-8d33cac86e7d"
      },
      "outputs": [
        {
          "name": "stderr",
          "output_type": "stream",
          "text": [
            "100%|██████████| 71/71 [00:00<00:00, 1259.23it/s]\n"
          ]
        }
      ],
      "source": [
        "for text, annot in tqdm(TRAIN_DATA['annotations']): \n",
        "    doc = nlp.make_doc(text) \n",
        "    ents = []\n",
        "    for start, end, label in annot[\"entities\"]:\n",
        "        span = doc.char_span(start, end, label=label, alignment_mode=\"contract\")\n",
        "        if span is None:\n",
        "            print(\"Skipping entity\")\n",
        "        else:\n",
        "            ents.append(span)\n",
        "    doc.ents = ents \n",
        "    db.add(doc)\n",
        "\n",
        "db.to_disk(\"./training_data.spacy\") # save the docbin object"
      ]
    },
    {
      "cell_type": "code",
      "execution_count": null,
      "metadata": {
        "colab": {
          "base_uri": "https://localhost:8080/"
        },
        "id": "JMhN4xPN_pVW",
        "outputId": "d67652b2-e6cf-4c9b-dd71-aed06d70fb9c"
      },
      "outputs": [
        {
          "name": "stdout",
          "output_type": "stream",
          "text": [
            "/usr/local/lib/python3.9/dist-packages/torch/cuda/__init__.py:497: UserWarning: Can't initialize NVML\n",
            "  warnings.warn(\"Can't initialize NVML\")\n",
            "2023-03-20 09:47:47.577010: W tensorflow/compiler/xla/stream_executor/platform/default/dso_loader.cc:64] Could not load dynamic library 'libnvinfer.so.7'; dlerror: libnvinfer.so.7: cannot open shared object file: No such file or directory; LD_LIBRARY_PATH: /usr/local/nvidia/lib:/usr/local/nvidia/lib64\n",
            "2023-03-20 09:47:47.577145: W tensorflow/compiler/xla/stream_executor/platform/default/dso_loader.cc:64] Could not load dynamic library 'libnvinfer_plugin.so.7'; dlerror: libnvinfer_plugin.so.7: cannot open shared object file: No such file or directory; LD_LIBRARY_PATH: /usr/local/nvidia/lib:/usr/local/nvidia/lib64\n",
            "2023-03-20 09:47:47.577165: W tensorflow/compiler/tf2tensorrt/utils/py_utils.cc:38] TF-TRT Warning: Cannot dlopen some TensorRT libraries. If you would like to use Nvidia GPU with TensorRT, please make sure the missing libraries mentioned above are installed properly.\n",
            "2023-03-20 09:47:50.010514: E tensorflow/compiler/xla/stream_executor/cuda/cuda_driver.cc:267] failed call to cuInit: CUDA_ERROR_NO_DEVICE: no CUDA-capable device is detected\n",
            "\u001b[38;5;3m⚠ To generate a more effective transformer-based config (GPU-only),\n",
            "install the spacy-transformers package and re-run this command. The config\n",
            "generated now does not use transformers.\u001b[0m\n",
            "\u001b[38;5;4mℹ Generated config template specific for your use case\u001b[0m\n",
            "- Language: fr\n",
            "- Pipeline: ner\n",
            "- Optimize for: efficiency\n",
            "- Hardware: CPU\n",
            "- Transformer: None\n",
            "\u001b[38;5;2m✔ Auto-filled config with all values\u001b[0m\n",
            "\u001b[38;5;2m✔ Saved config\u001b[0m\n",
            "config.cfg\n",
            "You can now add your data and train your pipeline:\n",
            "python -m spacy train config.cfg --paths.train ./train.spacy --paths.dev ./dev.spacy\n"
          ]
        }
      ],
      "source": [
        "! python -m spacy init config config.cfg --lang fr --pipeline ner --optimize efficiency --force "
      ]
    },
    {
      "cell_type": "code",
      "execution_count": null,
      "metadata": {
        "colab": {
          "base_uri": "https://localhost:8080/"
        },
        "id": "2JiL5zxU_q4Y",
        "outputId": "478101bf-7d4a-46b4-9157-d20d3ad6008a"
      },
      "outputs": [
        {
          "name": "stdout",
          "output_type": "stream",
          "text": [
            "/usr/local/lib/python3.9/dist-packages/torch/cuda/__init__.py:497: UserWarning: Can't initialize NVML\n",
            "  warnings.warn(\"Can't initialize NVML\")\n",
            "2023-03-20 09:48:00.585256: W tensorflow/compiler/xla/stream_executor/platform/default/dso_loader.cc:64] Could not load dynamic library 'libnvinfer.so.7'; dlerror: libnvinfer.so.7: cannot open shared object file: No such file or directory; LD_LIBRARY_PATH: /usr/local/nvidia/lib:/usr/local/nvidia/lib64\n",
            "2023-03-20 09:48:00.585362: W tensorflow/compiler/xla/stream_executor/platform/default/dso_loader.cc:64] Could not load dynamic library 'libnvinfer_plugin.so.7'; dlerror: libnvinfer_plugin.so.7: cannot open shared object file: No such file or directory; LD_LIBRARY_PATH: /usr/local/nvidia/lib:/usr/local/nvidia/lib64\n",
            "2023-03-20 09:48:00.585381: W tensorflow/compiler/tf2tensorrt/utils/py_utils.cc:38] TF-TRT Warning: Cannot dlopen some TensorRT libraries. If you would like to use Nvidia GPU with TensorRT, please make sure the missing libraries mentioned above are installed properly.\n",
            "2023-03-20 09:48:02.336831: E tensorflow/compiler/xla/stream_executor/cuda/cuda_driver.cc:267] failed call to cuInit: CUDA_ERROR_NO_DEVICE: no CUDA-capable device is detected\n",
            "\u001b[38;5;4mℹ Saving to output directory: .\u001b[0m\n",
            "\u001b[38;5;4mℹ Using CPU\u001b[0m\n",
            "\u001b[1m\n",
            "=========================== Initializing pipeline ===========================\u001b[0m\n",
            "[2023-03-20 09:48:08,856] [INFO] Set up nlp object from config\n",
            "[2023-03-20 09:48:08,868] [INFO] Pipeline: ['tok2vec', 'ner']\n",
            "[2023-03-20 09:48:08,872] [INFO] Created vocabulary\n",
            "[2023-03-20 09:48:08,873] [INFO] Finished initializing nlp object\n",
            "[2023-03-20 09:48:09,098] [INFO] Initialized pipeline components: ['tok2vec', 'ner']\n",
            "\u001b[38;5;2m✔ Initialized pipeline\u001b[0m\n",
            "\u001b[1m\n",
            "============================= Training pipeline =============================\u001b[0m\n",
            "\u001b[38;5;4mℹ Pipeline: ['tok2vec', 'ner']\u001b[0m\n",
            "\u001b[38;5;4mℹ Initial learn rate: 0.001\u001b[0m\n",
            "E    #       LOSS TOK2VEC  LOSS NER  ENTS_F  ENTS_P  ENTS_R  SCORE \n",
            "---  ------  ------------  --------  ------  ------  ------  ------\n",
            "  0       0          0.00     43.03    0.00    0.00    0.00    0.00\n",
            " 11     200       5018.71   2205.03   82.89   81.82   84.00    0.83\n",
            " 25     400         54.07    240.64   94.59   95.89   93.33    0.95\n",
            " 42     600         71.43    190.08   94.67   94.67   94.67    0.95\n",
            " 63     800        100.07    215.16   94.67   94.67   94.67    0.95\n",
            " 89    1000        102.74    257.52   94.67   94.67   94.67    0.95\n",
            "121    1200         86.06    293.50   94.59   95.89   93.33    0.95\n",
            "161    1400        125.37    335.84   94.74   93.51   96.00    0.95\n",
            "210    1600        124.30    384.58   94.59   95.89   93.33    0.95\n",
            "272    1800        102.13    442.82   94.59   95.89   93.33    0.95\n",
            "339    2000         66.06    443.94   94.59   95.89   93.33    0.95\n",
            "434    2200         76.84    553.39   94.59   95.89   93.33    0.95\n",
            "534    2400         49.85    569.06   94.59   95.89   93.33    0.95\n",
            "634    2600         40.36    560.25   94.67   94.67   94.67    0.95\n",
            "734    2800         37.55    554.83   94.67   94.67   94.67    0.95\n",
            "834    3000         44.23    548.23   94.59   95.89   93.33    0.95\n",
            "\u001b[38;5;2m✔ Saved pipeline to output directory\u001b[0m\n",
            "model-last\n"
          ]
        }
      ],
      "source": [
        "! python -m spacy train config.cfg --output ./ --paths.train ./training_data.spacy --paths.dev ./training_data.spacy"
      ]
    },
    {
      "cell_type": "code",
      "execution_count": null,
      "metadata": {
        "id": "LVd6YICJ_vSm"
      },
      "outputs": [],
      "source": [
        "nlp_ner = spacy.load(\"/content/model-best\") "
      ]
    },
    {
      "cell_type": "code",
      "execution_count": null,
      "metadata": {
        "id": "ZnABXYU3_6qb"
      },
      "outputs": [],
      "source": [
        "doc = nlp_ner(\"\"\"\n",
        "S’appuyant sur des enquêtes menées par nos partenaires, ce nouveau rapport met également en lumière la continuité des agissements de JBS dans d’autres territoires du Brésil. Une nouvelle enquête menée conjointement par Mighty Earth et Repórter Brasil a révélé que des incendies massifs avaient eu lieu en août 2022 dans une zone déboisée illégalement sur une propriété (Fazenda Rondon) qui approvisionne les différents abattoirs de JBS de l’état du Mato Grosso. Le système de surveillance de JBS n’a pas été en mesure d’arrêter ces activités illégales, malgré les nombreux avis préalables d’infractions et les interdictions formulées par les autorités environnementales locales. Le groupe JBS s’est approvisionné massivement en bétail auprès de la ferme la plus impliquée dans des faits récents de déforestation illégale dans l’État du Rondônia. Trois abattoirs JBS de cet État sont concernés, selon Greenpeace et Repórter Brasil. L’enquête menée par Mighty Earth en magasin rappelle également que les deux tiers des produits carnés commercialisés par le groupe Carrefour au Brésil sont des produits JBS, soit plus que la propre part de marché de JBS au Brésil (selon l’IBGE, JBS représente 47 % de l’abattage de bovins en 2022). Outre les deux abattoirs prétendument suspendus dans le Rondônia (Vilhena et Pimenta Bueno), nous avons découvert que Carrefour commercialisait aussi des produits carnés issus d’abattoirs JBS incriminés dans de précédents rapports d’AidEnvironment, Envol Vert, Global Witness, Greenpeace et Repórter Brasil (Maraba, Sao Miguel Do Guaporé, et Alta Floresta). Les dix abattoirs JBS liés à ces récents cas de déforestation fournissent même 27 % des produits carnés de Carrefour identifiés dans cette enquête menée en magasin. Carrefour est donc toujours très connectée à des abattoirs liés à des cas récents de déforestation. En juillet 2022, Carrefour a publié un rapport sur les négociants fournissant le soja pour l’alimentation animale des produits qu’elle commercialise. C’est un premier pas dans la bonne direction. Cependant, seuls les produits animaux (viande, lait, œufs) vendus sous la marque Carrefour et uniquement en France étaient couverts par ce rapport. Par ailleurs, concernant le soja, seuls les principaux négociants de soja associés étaient concernés : le volume de soja importé et l’information sur le silo n’ont pas été mentionnés, ni même sur la ferme ou même la municipalité de provenance. Le 8 novembre 2022, Carrefour a officialisé sa politique de lutte contre la déforestation, sans grand changement par rapport à celle annoncée deux mois plus tôt à la suite du lancement de la campagne #CarrefourNousEnfume. En réalité, sur le terrain, nous constatons que le groupe dépend toujours fortement de fournisseurs connus pour leurs liens avec la déforestation. Par ailleurs, la politique de Carrefour indique que la déforestation liée au bœuf est encore autorisée pendant huit ans, et aucune information solide sur le déploiement de cette politique n’a été communiquée pour le biome menacé du Cerrado. Mighty Earth considère qu’avec l’élection du président Lula, le groupe Carrefour doit pousser sa politique bien plus loin, s’engager à une déforestation zéro, et veiller à la robustesse de sa mise en place. Les demandes formulées par Mighty Earth sont les mêmes que précédemment et incluent, outre une élimination de la déforestation dans la chaîne d’approvisionnement liée au bœuf et au soja, une réduction de la part de produits carnés commercialisés dans les magasins du groupe Carrefour. La politique du groupe doit être transparente et doit s’appliquer à l’ensemble des supermarchés du groupe. Par ailleurs une politique cohérente sur les protéines doit notamment inclure la réduction des produits carnés. D’ici à 2030, s’engager à réduire de 50 % les produits d’origine animale vendus dans les magasins Carrefour. Cette politique doit inclure d’ici à 2030, la réduction de 45% des émissions de méthane à l’échelle du groupe et des fournisseurs. Concernant les émissions de type 3, le groupe doit réaliser un audit externe complet de son empreinte.\n",
        "\"\"\")"
      ]
    },
    {
      "cell_type": "code",
      "execution_count": null,
      "metadata": {
        "colab": {
          "base_uri": "https://localhost:8080/",
          "height": 717
        },
        "id": "92BHJR-WACT5",
        "outputId": "5ce85b73-a8fb-4cd9-e11b-8f3543c4119e"
      },
      "outputs": [
        {
          "data": {
            "text/html": [
              "<span class=\"tex2jax_ignore\"><div class=\"entities\" style=\"line-height: 2.5; direction: ltr\"></br>S’appuyant sur des enquêtes menées par nos partenaires, ce nouveau rapport met également en lumière la continuité des agissements de JBS dans d’autres territoires du Brésil. Une nouvelle enquête menée conjointement par Mighty Earth et Repórter Brasil a révélé que des incendies massifs avaient eu lieu en août 2022 dans une zone déboisée illégalement sur une propriété (Fazenda Rondon) qui approvisionne les différents abattoirs de JBS de l’état du Mato Grosso. Le système de surveillance de JBS n’a pas été en mesure d’arrêter ces activités illégales, malgré les nombreux avis préalables d’infractions et les interdictions formulées par les autorités environnementales locales. Le \n",
              "<mark class=\"entity\" style=\"background: #ddd; padding: 0.45em 0.6em; margin: 0 0.25em; line-height: 1; border-radius: 0.35em;\">\n",
              "    groupe JBS s’\n",
              "    <span style=\"font-size: 0.8em; font-weight: bold; line-height: 1; border-radius: 0.35em; vertical-align: middle; margin-left: 0.5rem\">GROUPE</span>\n",
              "</mark>\n",
              "est approvisionné massivement en bétail auprès de la ferme la plus impliquée dans des faits récents de déforestation illégale dans l’État du Rondônia. Trois abattoirs JBS de cet État sont concernés, selon Greenpeace et Repórter Brasil. L’enquête menée par Mighty Earth en magasin rappelle également que les deux tiers des produits carnés commercialisés par le \n",
              "<mark class=\"entity\" style=\"background: #ddd; padding: 0.45em 0.6em; margin: 0 0.25em; line-height: 1; border-radius: 0.35em;\">\n",
              "    groupe Carrefour\n",
              "    <span style=\"font-size: 0.8em; font-weight: bold; line-height: 1; border-radius: 0.35em; vertical-align: middle; margin-left: 0.5rem\">GROUPE</span>\n",
              "</mark>\n",
              " au Brésil sont des produits JBS, soit plus que la propre part de marché de JBS au \n",
              "<mark class=\"entity\" style=\"background: #bfe1d9; padding: 0.45em 0.6em; margin: 0 0.25em; line-height: 1; border-radius: 0.35em;\">\n",
              "    Brésil\n",
              "    <span style=\"font-size: 0.8em; font-weight: bold; line-height: 1; border-radius: 0.35em; vertical-align: middle; margin-left: 0.5rem\">DATE</span>\n",
              "</mark>\n",
              " (selon l’IBGE, JBS représente 47 % de l’abattage de bovins en 2022). Outre les deux abattoirs prétendument suspendus dans le \n",
              "<mark class=\"entity\" style=\"background: #ddd; padding: 0.45em 0.6em; margin: 0 0.25em; line-height: 1; border-radius: 0.35em;\">\n",
              "    Rondônia (Vilhena\n",
              "    <span style=\"font-size: 0.8em; font-weight: bold; line-height: 1; border-radius: 0.35em; vertical-align: middle; margin-left: 0.5rem\">GROUPE</span>\n",
              "</mark>\n",
              " et \n",
              "<mark class=\"entity\" style=\"background: #7aecec; padding: 0.45em 0.6em; margin: 0 0.25em; line-height: 1; border-radius: 0.35em;\">\n",
              "    Pimenta Bueno)\n",
              "    <span style=\"font-size: 0.8em; font-weight: bold; line-height: 1; border-radius: 0.35em; vertical-align: middle; margin-left: 0.5rem\">ORG</span>\n",
              "</mark>\n",
              ", nous avons découvert que Carrefour commercialisait aussi des produits carnés issus d’abattoirs JBS incriminés dans de précédents rapports d’AidEnvironment, Envol Vert, \n",
              "<mark class=\"entity\" style=\"background: #ddd; padding: 0.45em 0.6em; margin: 0 0.25em; line-height: 1; border-radius: 0.35em;\">\n",
              "    Global Witness\n",
              "    <span style=\"font-size: 0.8em; font-weight: bold; line-height: 1; border-radius: 0.35em; vertical-align: middle; margin-left: 0.5rem\">GROUPE</span>\n",
              "</mark>\n",
              ", \n",
              "<mark class=\"entity\" style=\"background: #ddd; padding: 0.45em 0.6em; margin: 0 0.25em; line-height: 1; border-radius: 0.35em;\">\n",
              "    Greenpeace et Repórter\n",
              "    <span style=\"font-size: 0.8em; font-weight: bold; line-height: 1; border-radius: 0.35em; vertical-align: middle; margin-left: 0.5rem\">GROUPE</span>\n",
              "</mark>\n",
              " Brasil (Maraba, \n",
              "<mark class=\"entity\" style=\"background: #7aecec; padding: 0.45em 0.6em; margin: 0 0.25em; line-height: 1; border-radius: 0.35em;\">\n",
              "    Sao Miguel\n",
              "    <span style=\"font-size: 0.8em; font-weight: bold; line-height: 1; border-radius: 0.35em; vertical-align: middle; margin-left: 0.5rem\">ORG</span>\n",
              "</mark>\n",
              " Do \n",
              "<mark class=\"entity\" style=\"background: #ddd; padding: 0.45em 0.6em; margin: 0 0.25em; line-height: 1; border-radius: 0.35em;\">\n",
              "    Guaporé,\n",
              "    <span style=\"font-size: 0.8em; font-weight: bold; line-height: 1; border-radius: 0.35em; vertical-align: middle; margin-left: 0.5rem\">GROUPE</span>\n",
              "</mark>\n",
              " et \n",
              "<mark class=\"entity\" style=\"background: #7aecec; padding: 0.45em 0.6em; margin: 0 0.25em; line-height: 1; border-radius: 0.35em;\">\n",
              "    Alta Floresta\n",
              "    <span style=\"font-size: 0.8em; font-weight: bold; line-height: 1; border-radius: 0.35em; vertical-align: middle; margin-left: 0.5rem\">ORG</span>\n",
              "</mark>\n",
              "). Les dix abattoirs JBS liés à ces récents cas de déforestation fournissent même 27 % des produits carnés de Carrefour identifiés dans cette enquête menée en magasin. Carrefour est donc toujours très connectée à des abattoirs liés à des cas récents de déforestation. En juillet 2022, Carrefour a publié un rapport sur les négociants fournissant le soja pour l’alimentation animale des produits qu’elle commercialise. C’est un premier pas dans la bonne direction. Cependant, seuls les produits animaux (viande, lait, œufs) vendus sous la marque Carrefour et uniquement en France étaient couverts par ce rapport. Par ailleurs, concernant le soja, seuls les principaux négociants de soja associés étaient concernés : le volume de soja importé et l’information sur le silo n’ont pas été mentionnés, ni même sur la ferme ou même la municipalité de provenance. Le 8 novembre 2022, Carrefour a officialisé sa politique de lutte contre la déforestation, sans grand changement par rapport à celle annoncée deux mois plus tôt à la suite du lancement de la campagne #CarrefourNousEnfume. En réalité, sur le terrain, nous constatons que le groupe dépend toujours fortement de fournisseurs connus pour leurs liens avec la déforestation. Par ailleurs, la politique de Carrefour indique que la déforestation liée au bœuf est encore autorisée pendant huit ans, et aucune information solide sur le déploiement de cette politique n’a été communiquée pour le biome menacé du Cerrado. Mighty Earth considère qu’avec l’élection du président Lula, le \n",
              "<mark class=\"entity\" style=\"background: #ddd; padding: 0.45em 0.6em; margin: 0 0.25em; line-height: 1; border-radius: 0.35em;\">\n",
              "    groupe Carrefour\n",
              "    <span style=\"font-size: 0.8em; font-weight: bold; line-height: 1; border-radius: 0.35em; vertical-align: middle; margin-left: 0.5rem\">GROUPE</span>\n",
              "</mark>\n",
              " doit pousser sa politique bien plus loin, s’engager à une déforestation zéro, et veiller à la robustesse de sa mise en place. Les demandes formulées par Mighty Earth sont les mêmes que précédemment et incluent, outre une élimination de la déforestation dans la chaîne d’approvisionnement liée au bœuf et au soja, une réduction de la part de produits carnés commercialisés dans les magasins du groupe Carrefour. La politique du groupe doit être transparente et doit s’appliquer à l’ensemble des supermarchés du groupe. Par ailleurs une politique cohérente sur les protéines doit notamment inclure la réduction des produits carnés. D’ici à \n",
              "<mark class=\"entity\" style=\"background: #bfe1d9; padding: 0.45em 0.6em; margin: 0 0.25em; line-height: 1; border-radius: 0.35em;\">\n",
              "    2030\n",
              "    <span style=\"font-size: 0.8em; font-weight: bold; line-height: 1; border-radius: 0.35em; vertical-align: middle; margin-left: 0.5rem\">DATE</span>\n",
              "</mark>\n",
              ", s’engager à réduire de 50 % les produits d’origine animale vendus dans les magasins Carrefour. Cette politique doit inclure d’ici à \n",
              "<mark class=\"entity\" style=\"background: #bfe1d9; padding: 0.45em 0.6em; margin: 0 0.25em; line-height: 1; border-radius: 0.35em;\">\n",
              "    2030\n",
              "    <span style=\"font-size: 0.8em; font-weight: bold; line-height: 1; border-radius: 0.35em; vertical-align: middle; margin-left: 0.5rem\">DATE</span>\n",
              "</mark>\n",
              ", la réduction de 45% des émissions de méthane à l’échelle du groupe et des fournisseurs. Concernant les émissions de type 3, le groupe doit réaliser un audit externe complet de son empreinte.</br></div></span>"
            ],
            "text/plain": [
              "<IPython.core.display.HTML object>"
            ]
          },
          "metadata": {},
          "output_type": "display_data"
        }
      ],
      "source": [
        "spacy.displacy.render(doc, style=\"ent\", jupyter=True) # display in Jupyter"
      ]
    },
    {
      "cell_type": "code",
      "execution_count": null,
      "metadata": {
        "colab": {
          "base_uri": "https://localhost:8080/"
        },
        "id": "V-5DXkkiCE5b",
        "outputId": "d9799f8d-c475-4a28-97cc-5f75a2348ca2"
      },
      "outputs": [
        {
          "data": {
            "text/plain": [
              "[]"
            ]
          },
          "execution_count": 12,
          "metadata": {},
          "output_type": "execute_result"
        }
      ],
      "source": [
        "[(ent.text, ent.label_) for ent in doc.ents if ent.label_=='PER']"
      ]
    },
    {
      "cell_type": "code",
      "execution_count": null,
      "metadata": {
        "colab": {
          "base_uri": "https://localhost:8080/"
        },
        "id": "shAL-xe_udMM",
        "outputId": "a100f78e-3e5c-468e-bb9f-d0c1541dc9f2"
      },
      "outputs": [
        {
          "name": "stdout",
          "output_type": "stream",
          "text": [
            "GROUPE  |  groupe JBS s’\n",
            "GROUPE  |  groupe Carrefour\n",
            "DATE  |  Brésil\n",
            "GROUPE  |  Rondônia (Vilhena\n",
            "ORG  |  Pimenta Bueno)\n",
            "GROUPE  |  Global Witness\n",
            "GROUPE  |  Greenpeace et Repórter\n",
            "ORG  |  Sao Miguel\n",
            "GROUPE  |  Guaporé,\n",
            "ORG  |  Alta Floresta\n",
            "GROUPE  |  groupe Carrefour\n",
            "DATE  |  2030\n",
            "DATE  |  2030\n"
          ]
        }
      ],
      "source": [
        "for entity in doc.ents:\n",
        "  print(entity.label_, ' | ', entity.text)"
      ]
    },
    {
      "cell_type": "code",
      "execution_count": null,
      "metadata": {
        "colab": {
          "base_uri": "https://localhost:8080/"
        },
        "id": "G-HyKAwIvYxN",
        "outputId": "a0d6fad2-a5f4-4f90-f116-3aca95657e36"
      },
      "outputs": [
        {
          "name": "stdout",
          "output_type": "stream",
          "text": [
            "   entity_label             entity_text\n",
            "0        GROUPE           groupe JBS s’\n",
            "1        GROUPE        groupe Carrefour\n",
            "2          DATE                  Brésil\n",
            "3        GROUPE       Rondônia (Vilhena\n",
            "4           ORG          Pimenta Bueno)\n",
            "5        GROUPE          Global Witness\n",
            "6        GROUPE  Greenpeace et Repórter\n",
            "7           ORG              Sao Miguel\n",
            "8        GROUPE                Guaporé,\n",
            "9           ORG           Alta Floresta\n",
            "10       GROUPE        groupe Carrefour\n",
            "11         DATE                    2030\n",
            "12         DATE                    2030\n"
          ]
        }
      ],
      "source": [
        "import pandas as pd\n",
        "\n",
        "# Create an empty list to store entities\n",
        "entities = []\n",
        "\n",
        "# Iterate over the entities in the Doc object\n",
        "for entity in doc.ents:\n",
        "    # Append a tuple of entity label and text to the entities list\n",
        "    entities.append((entity.label_, entity.text))\n",
        "\n",
        "# Create a pandas DataFrame from the entities list\n",
        "df = pd.DataFrame(entities, columns=['entity_label', 'entity_text'])\n",
        "\n",
        "# Print the DataFrame\n",
        "print(df)\n"
      ]
    },
    {
      "cell_type": "code",
      "execution_count": null,
      "metadata": {
        "colab": {
          "base_uri": "https://localhost:8080/",
          "height": 175
        },
        "id": "mALtLoOdvikW",
        "outputId": "7204a702-b57f-48c7-c8df-1f9627e9f691"
      },
      "outputs": [
        {
          "data": {
            "text/html": [
              "\n",
              "  <div id=\"df-682bb805-990a-4c11-9fb1-7bfaf2bc2a68\">\n",
              "    <div class=\"colab-df-container\">\n",
              "      <div>\n",
              "<style scoped>\n",
              "    .dataframe tbody tr th:only-of-type {\n",
              "        vertical-align: middle;\n",
              "    }\n",
              "\n",
              "    .dataframe tbody tr th {\n",
              "        vertical-align: top;\n",
              "    }\n",
              "\n",
              "    .dataframe thead th {\n",
              "        text-align: right;\n",
              "    }\n",
              "</style>\n",
              "<table border=\"1\" class=\"dataframe\">\n",
              "  <thead>\n",
              "    <tr style=\"text-align: right;\">\n",
              "      <th></th>\n",
              "      <th>entity_text</th>\n",
              "    </tr>\n",
              "    <tr>\n",
              "      <th>entity_label</th>\n",
              "      <th></th>\n",
              "    </tr>\n",
              "  </thead>\n",
              "  <tbody>\n",
              "    <tr>\n",
              "      <th>DATE</th>\n",
              "      <td>3</td>\n",
              "    </tr>\n",
              "    <tr>\n",
              "      <th>GROUPE</th>\n",
              "      <td>7</td>\n",
              "    </tr>\n",
              "    <tr>\n",
              "      <th>ORG</th>\n",
              "      <td>3</td>\n",
              "    </tr>\n",
              "  </tbody>\n",
              "</table>\n",
              "</div>\n",
              "      <button class=\"colab-df-convert\" onclick=\"convertToInteractive('df-682bb805-990a-4c11-9fb1-7bfaf2bc2a68')\"\n",
              "              title=\"Convert this dataframe to an interactive table.\"\n",
              "              style=\"display:none;\">\n",
              "        \n",
              "  <svg xmlns=\"http://www.w3.org/2000/svg\" height=\"24px\"viewBox=\"0 0 24 24\"\n",
              "       width=\"24px\">\n",
              "    <path d=\"M0 0h24v24H0V0z\" fill=\"none\"/>\n",
              "    <path d=\"M18.56 5.44l.94 2.06.94-2.06 2.06-.94-2.06-.94-.94-2.06-.94 2.06-2.06.94zm-11 1L8.5 8.5l.94-2.06 2.06-.94-2.06-.94L8.5 2.5l-.94 2.06-2.06.94zm10 10l.94 2.06.94-2.06 2.06-.94-2.06-.94-.94-2.06-.94 2.06-2.06.94z\"/><path d=\"M17.41 7.96l-1.37-1.37c-.4-.4-.92-.59-1.43-.59-.52 0-1.04.2-1.43.59L10.3 9.45l-7.72 7.72c-.78.78-.78 2.05 0 2.83L4 21.41c.39.39.9.59 1.41.59.51 0 1.02-.2 1.41-.59l7.78-7.78 2.81-2.81c.8-.78.8-2.07 0-2.86zM5.41 20L4 18.59l7.72-7.72 1.47 1.35L5.41 20z\"/>\n",
              "  </svg>\n",
              "      </button>\n",
              "      \n",
              "  <style>\n",
              "    .colab-df-container {\n",
              "      display:flex;\n",
              "      flex-wrap:wrap;\n",
              "      gap: 12px;\n",
              "    }\n",
              "\n",
              "    .colab-df-convert {\n",
              "      background-color: #E8F0FE;\n",
              "      border: none;\n",
              "      border-radius: 50%;\n",
              "      cursor: pointer;\n",
              "      display: none;\n",
              "      fill: #1967D2;\n",
              "      height: 32px;\n",
              "      padding: 0 0 0 0;\n",
              "      width: 32px;\n",
              "    }\n",
              "\n",
              "    .colab-df-convert:hover {\n",
              "      background-color: #E2EBFA;\n",
              "      box-shadow: 0px 1px 2px rgba(60, 64, 67, 0.3), 0px 1px 3px 1px rgba(60, 64, 67, 0.15);\n",
              "      fill: #174EA6;\n",
              "    }\n",
              "\n",
              "    [theme=dark] .colab-df-convert {\n",
              "      background-color: #3B4455;\n",
              "      fill: #D2E3FC;\n",
              "    }\n",
              "\n",
              "    [theme=dark] .colab-df-convert:hover {\n",
              "      background-color: #434B5C;\n",
              "      box-shadow: 0px 1px 3px 1px rgba(0, 0, 0, 0.15);\n",
              "      filter: drop-shadow(0px 1px 2px rgba(0, 0, 0, 0.3));\n",
              "      fill: #FFFFFF;\n",
              "    }\n",
              "  </style>\n",
              "\n",
              "      <script>\n",
              "        const buttonEl =\n",
              "          document.querySelector('#df-682bb805-990a-4c11-9fb1-7bfaf2bc2a68 button.colab-df-convert');\n",
              "        buttonEl.style.display =\n",
              "          google.colab.kernel.accessAllowed ? 'block' : 'none';\n",
              "\n",
              "        async function convertToInteractive(key) {\n",
              "          const element = document.querySelector('#df-682bb805-990a-4c11-9fb1-7bfaf2bc2a68');\n",
              "          const dataTable =\n",
              "            await google.colab.kernel.invokeFunction('convertToInteractive',\n",
              "                                                     [key], {});\n",
              "          if (!dataTable) return;\n",
              "\n",
              "          const docLinkHtml = 'Like what you see? Visit the ' +\n",
              "            '<a target=\"_blank\" href=https://colab.research.google.com/notebooks/data_table.ipynb>data table notebook</a>'\n",
              "            + ' to learn more about interactive tables.';\n",
              "          element.innerHTML = '';\n",
              "          dataTable['output_type'] = 'display_data';\n",
              "          await google.colab.output.renderOutput(dataTable, element);\n",
              "          const docLink = document.createElement('div');\n",
              "          docLink.innerHTML = docLinkHtml;\n",
              "          element.appendChild(docLink);\n",
              "        }\n",
              "      </script>\n",
              "    </div>\n",
              "  </div>\n",
              "  "
            ],
            "text/plain": [
              "              entity_text\n",
              "entity_label             \n",
              "DATE                    3\n",
              "GROUPE                  7\n",
              "ORG                     3"
            ]
          },
          "execution_count": 15,
          "metadata": {},
          "output_type": "execute_result"
        }
      ],
      "source": [
        "grouped_df = df.groupby('entity_label').count()\n",
        "grouped_df"
      ]
    },
    {
      "cell_type": "code",
      "execution_count": null,
      "metadata": {
        "colab": {
          "base_uri": "https://localhost:8080/",
          "height": 34
        },
        "id": "3DApbT2TzfS4",
        "outputId": "e4c0ea72-f1bc-4401-9d4d-362348593122"
      },
      "outputs": [
        {
          "data": {
            "application/javascript": "\n    async function download(id, filename, size) {\n      if (!google.colab.kernel.accessAllowed) {\n        return;\n      }\n      const div = document.createElement('div');\n      const label = document.createElement('label');\n      label.textContent = `Downloading \"${filename}\": `;\n      div.appendChild(label);\n      const progress = document.createElement('progress');\n      progress.max = size;\n      div.appendChild(progress);\n      document.body.appendChild(div);\n\n      const buffers = [];\n      let downloaded = 0;\n\n      const channel = await google.colab.kernel.comms.open(id);\n      // Send a message to notify the kernel that we're ready.\n      channel.send({})\n\n      for await (const message of channel.messages) {\n        // Send a message to notify the kernel that we're ready.\n        channel.send({})\n        if (message.buffers) {\n          for (const buffer of message.buffers) {\n            buffers.push(buffer);\n            downloaded += buffer.byteLength;\n            progress.value = downloaded;\n          }\n        }\n      }\n      const blob = new Blob(buffers, {type: 'application/binary'});\n      const a = document.createElement('a');\n      a.href = window.URL.createObjectURL(blob);\n      a.download = filename;\n      div.appendChild(a);\n      a.click();\n      div.remove();\n    }\n  ",
            "text/plain": [
              "<IPython.core.display.Javascript object>"
            ]
          },
          "metadata": {},
          "output_type": "display_data"
        },
        {
          "data": {
            "application/javascript": "download(\"download_84fd681b-a47b-4fa5-a9c6-ee19007d54e5\", \"model-best\", 4096)",
            "text/plain": [
              "<IPython.core.display.Javascript object>"
            ]
          },
          "metadata": {},
          "output_type": "display_data"
        }
      ],
      "source": [
        "from google.colab import files\n",
        "files.download('/content/model-best')"
      ]
    },
    {
      "cell_type": "code",
      "execution_count": null,
      "metadata": {
        "id": "WVivVWZ-fm1P"
      },
      "outputs": [],
      "source": []
    }
  ],
  "metadata": {
    "colab": {
      "authorship_tag": "ABX9TyP7jWoe8kb7IjENnfRYIwt5",
      "include_colab_link": true,
      "provenance": []
    },
    "kernelspec": {
      "display_name": "Python 3",
      "name": "python3"
    },
    "language_info": {
      "name": "python"
    }
  },
  "nbformat": 4,
  "nbformat_minor": 0
}
